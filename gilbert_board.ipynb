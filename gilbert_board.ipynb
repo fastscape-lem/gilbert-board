{
 "cells": [
  {
   "cell_type": "markdown",
   "metadata": {},
   "source": [
    "# Gilbert Board\n",
    "\n",
    "A variant of the [Galton Board](https://en.wikipedia.org/wiki/Bean_machine), named after the famous geomorphologist [G. K. Gilbert](https://en.wikipedia.org/wiki/Grove_Karl_Gilbert), where the particles initially located on a high plateau \"fall down\" following flow paths that are shaped by running a landscape evolution model.\n",
    "\n",
    "The landscape evolution model is fully deterministic. Randomness only comes from the initial conditions (i.e., the initial topography and the location of the particles).\n",
    "\n",
    "Contrary to the Glaton Board, there is no demonstration of the central limit theorem here. "
   ]
  },
  {
   "cell_type": "code",
   "execution_count": 1,
   "metadata": {},
   "outputs": [],
   "source": [
    "from gboard import Board"
   ]
  },
  {
   "cell_type": "code",
   "execution_count": 2,
   "metadata": {},
   "outputs": [
    {
     "data": {
      "application/vnd.jupyter.widget-view+json": {
       "model_id": "cfff1577330d4e26b9888371b3f126fd",
       "version_major": 2,
       "version_minor": 0
      },
      "text/plain": [
       "HBox(children=(MultiCanvas(layout=Layout(height='660px', width='510px')), VBox(children=(HBox(children=(Button…"
      ]
     },
     "metadata": {},
     "output_type": "display_data"
    }
   ],
   "source": [
    "board = Board()\n",
    "\n",
    "board.show()"
   ]
  },
  {
   "cell_type": "markdown",
   "metadata": {},
   "source": [
    "Author: Benoît Bovy\n",
    "\n",
    "Powered by:\n",
    "\n",
    "![FastScape](https://raw.githubusercontent.com/fastscape-lem/design/master/logo/fastscape_logo_lowres.png \"FastScape\")\n",
    "\n",
    "https://github.com/fastscape-lem\n",
    "\n",
    "Also powered by:\n",
    "\n",
    "- https://ipycanvas.readthedocs.io\n",
    "- https://ipywidgets.readthedocs.io"
   ]
  },
  {
   "cell_type": "code",
   "execution_count": null,
   "metadata": {},
   "outputs": [],
   "source": []
  }
 ],
 "metadata": {
  "kernelspec": {
   "display_name": "Python [conda env:gilbert_board]",
   "language": "python",
   "name": "conda-env-gilbert_board-py"
  },
  "language_info": {
   "codemirror_mode": {
    "name": "ipython",
    "version": 3
   },
   "file_extension": ".py",
   "mimetype": "text/x-python",
   "name": "python",
   "nbconvert_exporter": "python",
   "pygments_lexer": "ipython3",
   "version": "3.7.3"
  }
 },
 "nbformat": 4,
 "nbformat_minor": 4
}
